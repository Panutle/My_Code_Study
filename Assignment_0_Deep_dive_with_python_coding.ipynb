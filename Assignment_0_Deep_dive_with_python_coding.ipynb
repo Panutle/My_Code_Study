{
  "nbformat": 4,
  "nbformat_minor": 0,
  "metadata": {
    "colab": {
      "provenance": [],
      "authorship_tag": "ABX9TyMEvguRtKR4Ec1AhEvn2yUy",
      "include_colab_link": true
    },
    "kernelspec": {
      "name": "python3",
      "display_name": "Python 3"
    },
    "language_info": {
      "name": "python"
    }
  },
  "cells": [
    {
      "cell_type": "markdown",
      "metadata": {
        "id": "view-in-github",
        "colab_type": "text"
      },
      "source": [
        "<a href=\"https://colab.research.google.com/github/Panutle/My_Code_Study/blob/main/Assignment_0_Deep_dive_with_python_coding.ipynb\" target=\"_parent\"><img src=\"https://colab.research.google.com/assets/colab-badge.svg\" alt=\"Open In Colab\"/></a>"
      ]
    },
    {
      "cell_type": "code",
      "execution_count": null,
      "metadata": {
        "colab": {
          "base_uri": "https://localhost:8080/"
        },
        "id": "iLyOkKjHHfjC",
        "outputId": "415572cd-32db-4963-bf88-1e62d1e83202"
      },
      "outputs": [
        {
          "output_type": "stream",
          "name": "stdout",
          "text": [
            "Counter({1: 2, 2: 1})\n",
            "(1, 125321)\n",
            "(2, 62664)\n",
            "(3, 31288)\n",
            "(4, 15725)\n",
            "(5, 7638)\n",
            "(6, 3928)\n",
            "(7, 1917)\n",
            "(8, 948)\n",
            "(9, 479)\n",
            "(10, 255)\n",
            "(11, 115)\n",
            "(12, 51)\n",
            "(13, 28)\n",
            "(14, 9)\n",
            "(15, 5)\n",
            "(16, 2)\n"
          ]
        }
      ],
      "source": [
        "from itertools import groupby\n",
        "from collections import Counter\n",
        "import numpy as np\n",
        "\n",
        "Count_N = dict()\n",
        "\n",
        "def count_runs(sequence):\n",
        "    run_lengths = [sum(1 for _ in group) for key, group in groupby(sequence) if key == 1]\n",
        "    return Counter(run_lengths)\n",
        "\n",
        "print(count_runs([0, 1, 0, 1, 1, 0, 0, 0, 0, 1]))\n",
        "for i in sorted(count_runs(np.random.randint(0,2,1000000)).items()):\n",
        "  print(i)"
      ]
    },
    {
      "cell_type": "code",
      "source": [
        "import numpy as np\n",
        "from itertools import groupby\n",
        "\n",
        "def count_runs(sequence, k):\n",
        "    run_lengths = [sum(1 for _ in group) for key, group in groupby(sequence) if key == 1]\n",
        "    return any(length >= k for length in run_lengths)\n",
        "\n",
        "def run_prob(expts, n, k, p):\n",
        "    success_runs_count = 0\n",
        "\n",
        "    for _ in range(expts):\n",
        "        random_sequence = np.random.choice([0, 1], size=n, p=[1-p, p])\n",
        "\n",
        "        if count_runs(random_sequence, k):\n",
        "            success_runs_count += 1\n",
        "\n",
        "    probability = success_runs_count / expts\n",
        "    return probability\n",
        "\n",
        "n = 100\n",
        "p_1 = 0.5\n",
        "p_2 = 0.7\n",
        "k_1 = 5\n",
        "k_2 = 7\n",
        "expts = 100000\n",
        "\n",
        "prob_1 = run_prob(expts, n, k_1, p_1)\n",
        "prob_2 = run_prob(expts, n, k_2, p_2)\n",
        "\n",
        "print(prob_1)\n",
        "print(prob_2)\n"
      ],
      "metadata": {
        "colab": {
          "base_uri": "https://localhost:8080/"
        },
        "id": "Gi_K-HdrNiu0",
        "outputId": "0f49b970-add2-4334-f485-9b3d38f02bc6"
      },
      "execution_count": null,
      "outputs": [
        {
          "output_type": "stream",
          "name": "stdout",
          "text": [
            "0.81014\n",
            "0.9484\n"
          ]
        }
      ]
    }
  ]
}